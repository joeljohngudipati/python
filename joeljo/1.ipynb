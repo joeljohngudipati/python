{
 "cells": [
  {
   "cell_type": "code",
   "execution_count": 2,
   "metadata": {},
   "outputs": [
    {
     "name": "stdout",
     "output_type": "stream",
     "text": [
      "pythonn\n"
     ]
    }
   ],
   "source": [
    "print(\"pythonn\")"
   ]
  },
  {
   "cell_type": "code",
   "execution_count": 1,
   "metadata": {},
   "outputs": [
    {
     "name": "stdout",
     "output_type": "stream",
     "text": [
      "Result of square= 25\n"
     ]
    }
   ],
   "source": [
    "def sqr(number):\n",
    "    res=number*number\n",
    "    print(\"Result of square=\",res)\n",
    "\n",
    "inp=int(input(\"Enter the number: \"))\n",
    "sqr(inp)\n",
    "\n",
    "# p,q,r = 5,10,15\n",
    "# print(p,q)\n",
    "\n",
    "# p,q=q,p\n",
    "# print(p,q)\n",
    "\n",
    "# x=10\n",
    "# y = x+2\n",
    "# print(id(y))\n",
    "# y = x+5\n",
    "# print(id(y))\n",
    "# x=10\n",
    "# print(type(x))\n",
    "\n",
    "# ans=10/0\n",
    "# print(ans)\n"
   ]
  }
 ],
 "metadata": {
  "kernelspec": {
   "display_name": "Python 3",
   "language": "python",
   "name": "python3"
  },
  "language_info": {
   "codemirror_mode": {
    "name": "ipython",
    "version": 3
   },
   "file_extension": ".py",
   "mimetype": "text/x-python",
   "name": "python",
   "nbconvert_exporter": "python",
   "pygments_lexer": "ipython3",
   "version": "3.11.1"
  },
  "orig_nbformat": 4,
  "vscode": {
   "interpreter": {
    "hash": "c797269ff3a285cfdf6a9318b887dbb91d860608f73fbfedbf12201f2d9171fd"
   }
  }
 },
 "nbformat": 4,
 "nbformat_minor": 2
}
